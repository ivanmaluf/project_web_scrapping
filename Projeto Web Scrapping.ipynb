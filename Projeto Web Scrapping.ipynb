{
 "cells": [
  {
   "cell_type": "code",
   "execution_count": 129,
   "metadata": {
    "ExecuteTime": {
     "end_time": "2020-11-13T19:49:05.482593Z",
     "start_time": "2020-11-13T19:49:05.342569Z"
    }
   },
   "outputs": [],
   "source": [
    "import tqdm\n",
    "import pandas as pd\n",
    "import numpy as np\n",
    "import requests\n",
    "from bs4 import BeautifulSoup\n",
    "from selenium import webdriver"
   ]
  },
  {
   "cell_type": "markdown",
   "metadata": {},
   "source": [
    "## The url to scrape"
   ]
  },
  {
   "cell_type": "code",
   "execution_count": 113,
   "metadata": {
    "ExecuteTime": {
     "end_time": "2020-11-13T19:11:07.527747Z",
     "start_time": "2020-11-13T19:11:07.521260Z"
    }
   },
   "outputs": [],
   "source": [
    "url = 'https://www.livrariadavila.com.br/livros/nao-ficcao/biografia?PS=2041'\n",
    "\n"
   ]
  },
  {
   "cell_type": "markdown",
   "metadata": {},
   "source": [
    "## Get the response"
   ]
  },
  {
   "cell_type": "code",
   "execution_count": 114,
   "metadata": {
    "ExecuteTime": {
     "end_time": "2020-11-13T19:11:18.848701Z",
     "start_time": "2020-11-13T19:11:17.775187Z"
    }
   },
   "outputs": [],
   "source": [
    "response = requests.get(url)"
   ]
  },
  {
   "cell_type": "code",
   "execution_count": 115,
   "metadata": {
    "ExecuteTime": {
     "end_time": "2020-11-13T19:11:19.215038Z",
     "start_time": "2020-11-13T19:11:19.182691Z"
    }
   },
   "outputs": [
    {
     "data": {
      "text/plain": [
       "<Response [200]>"
      ]
     },
     "execution_count": 115,
     "metadata": {},
     "output_type": "execute_result"
    }
   ],
   "source": [
    "response"
   ]
  },
  {
   "cell_type": "markdown",
   "metadata": {},
   "source": [
    "## Get the html"
   ]
  },
  {
   "cell_type": "code",
   "execution_count": 116,
   "metadata": {
    "ExecuteTime": {
     "end_time": "2020-11-13T19:11:20.466288Z",
     "start_time": "2020-11-13T19:11:20.461904Z"
    }
   },
   "outputs": [],
   "source": [
    "html = response.content"
   ]
  },
  {
   "cell_type": "markdown",
   "metadata": {},
   "source": [
    "## Do the soup"
   ]
  },
  {
   "cell_type": "code",
   "execution_count": 117,
   "metadata": {
    "ExecuteTime": {
     "end_time": "2020-11-13T19:11:22.585295Z",
     "start_time": "2020-11-13T19:11:22.437286Z"
    }
   },
   "outputs": [],
   "source": [
    "soup = BeautifulSoup(html)\n"
   ]
  },
  {
   "cell_type": "markdown",
   "metadata": {},
   "source": [
    "## Walk through the HTML, to select all books of this \"Biography\" page"
   ]
  },
  {
   "cell_type": "code",
   "execution_count": 119,
   "metadata": {
    "ExecuteTime": {
     "end_time": "2020-11-13T19:11:43.079889Z",
     "start_time": "2020-11-13T19:11:43.061855Z"
    }
   },
   "outputs": [
    {
     "data": {
      "text/plain": [
       "'Os Últimos Melhores Dias da Minha Vida'"
      ]
     },
     "execution_count": 119,
     "metadata": {},
     "output_type": "execute_result"
    }
   ],
   "source": [
    "soup.find_all('b', attrs={'class':'product-name'})[0].text.strip()"
   ]
  },
  {
   "cell_type": "code",
   "execution_count": 120,
   "metadata": {
    "ExecuteTime": {
     "end_time": "2020-11-13T19:11:44.796524Z",
     "start_time": "2020-11-13T19:11:44.773503Z"
    }
   },
   "outputs": [
    {
     "data": {
      "text/plain": [
       "['Os Últimos Melhores Dias da Minha Vida',\n",
       " 'Woody Allen - a Autobiografia',\n",
       " 'De Cu Pra Lua',\n",
       " 'Autobiografia Precoce',\n",
       " 'Samuel Wainer - o Homem Que Estava Lá',\n",
       " 'Um Paciente Chamado Brasil',\n",
       " 'Onde os Sonhos Acontecem - Meus 15 Anos Como Ceo da The Walt Disney Company',\n",
       " 'Sonho Sequestrado',\n",
       " 'Narciso em Férias',\n",
       " 'Vida Começava La, a - Uma Historia de Repercussão Corporal',\n",
       " 'Escritos de Uma Vida',\n",
       " 'Francisco, o Papa da Esperança',\n",
       " 'Quem Matou John Lennon?',\n",
       " 'Enquanto Estivermos Juntos',\n",
       " 'O Violão Vadio de Baden Powell',\n",
       " 'Sou a Mãe Dela',\n",
       " 'Bauman - Uma Biografia',\n",
       " 'Tempo Vida Poesia',\n",
       " 'Mulheres de Minha Alma',\n",
       " 'Nós, Mulheres']"
      ]
     },
     "execution_count": 120,
     "metadata": {},
     "output_type": "execute_result"
    }
   ],
   "source": [
    "titles = [s.find_all('a')[0]['title'].strip() for s in soup.find_all('b', attrs={'class':'product-name'})]\n",
    "titles"
   ]
  },
  {
   "cell_type": "code",
   "execution_count": 70,
   "metadata": {
    "ExecuteTime": {
     "end_time": "2020-11-13T17:45:59.599827Z",
     "start_time": "2020-11-13T17:45:59.577432Z"
    }
   },
   "outputs": [
    {
     "data": {
      "text/plain": [
       "[]"
      ]
     },
     "execution_count": 70,
     "metadata": {},
     "output_type": "execute_result"
    }
   ],
   "source": [
    "soup.find_all('a', attrs={'style':'text-decoration:none;'})"
   ]
  },
  {
   "cell_type": "code",
   "execution_count": 83,
   "metadata": {
    "ExecuteTime": {
     "end_time": "2020-11-13T17:57:23.462182Z",
     "start_time": "2020-11-13T17:57:23.451109Z"
    }
   },
   "outputs": [
    {
     "data": {
      "text/plain": [
       "20"
      ]
     },
     "execution_count": 83,
     "metadata": {},
     "output_type": "execute_result"
    }
   ],
   "source": [
    "len(titles)"
   ]
  },
  {
   "cell_type": "code",
   "execution_count": 72,
   "metadata": {
    "ExecuteTime": {
     "end_time": "2020-11-13T17:46:51.195891Z",
     "start_time": "2020-11-13T17:46:51.168150Z"
    }
   },
   "outputs": [
    {
     "data": {
      "text/plain": [
       "'Autor\\r\\n\\nGilberto Dimenstein, Anna Penido'"
      ]
     },
     "execution_count": 72,
     "metadata": {},
     "output_type": "execute_result"
    }
   ],
   "source": [
    "soup.find_all('div', attrs={'class':'product-field product_field_40 product-field-type_1'})[0].text.strip()"
   ]
  },
  {
   "cell_type": "code",
   "execution_count": 82,
   "metadata": {
    "ExecuteTime": {
     "end_time": "2020-11-13T17:56:27.942899Z",
     "start_time": "2020-11-13T17:56:27.916739Z"
    }
   },
   "outputs": [
    {
     "data": {
      "text/plain": [
       "['Gilberto Dimenstein, Anna Penido',\n",
       " 'Woody Allen',\n",
       " 'Nelson Motta',\n",
       " 'Pagu',\n",
       " 'Karla Monteiro',\n",
       " 'Luiz Henrique Mandetta',\n",
       " 'Robert Iger',\n",
       " 'Marcondes Gadelha',\n",
       " 'Caetano Veloso',\n",
       " 'Fernando Barba, Renata Ferraz Torres',\n",
       " 'Sueli Carneiro',\n",
       " 'José Laércio de Lima',\n",
       " 'Lesley -Ann Jones',\n",
       " 'Jeremy Camp',\n",
       " 'Dominique Dreyfus',\n",
       " 'Adriana Araújo',\n",
       " 'Izabela Wagner',\n",
       " 'Carlos Drummond de Andrade',\n",
       " 'Isabel Allende',\n",
       " 'Rosa Montero']"
      ]
     },
     "execution_count": 82,
     "metadata": {},
     "output_type": "execute_result"
    }
   ],
   "source": [
    "authors = [x.text.strip().split('\\n\\n')[1] for x in soup.find_all('div', attrs={'class':'product-field product_field_40 product-field-type_1'})]\n",
    "authors"
   ]
  },
  {
   "cell_type": "code",
   "execution_count": 81,
   "metadata": {
    "ExecuteTime": {
     "end_time": "2020-11-13T17:55:23.889893Z",
     "start_time": "2020-11-13T17:55:23.872666Z"
    }
   },
   "outputs": [
    {
     "data": {
      "text/plain": [
       "['Autor\\r', 'Rosa Montero']"
      ]
     },
     "execution_count": 81,
     "metadata": {},
     "output_type": "execute_result"
    }
   ],
   "source": [
    "'Autor\\r\\n\\nRosa Montero'.split('\\n\\n')"
   ]
  },
  {
   "cell_type": "code",
   "execution_count": 84,
   "metadata": {
    "ExecuteTime": {
     "end_time": "2020-11-13T17:57:32.404219Z",
     "start_time": "2020-11-13T17:57:32.395771Z"
    }
   },
   "outputs": [
    {
     "data": {
      "text/plain": [
       "20"
      ]
     },
     "execution_count": 84,
     "metadata": {},
     "output_type": "execute_result"
    }
   ],
   "source": [
    "len(authors)"
   ]
  },
  {
   "cell_type": "code",
   "execution_count": 87,
   "metadata": {
    "ExecuteTime": {
     "end_time": "2020-11-13T18:01:20.457415Z",
     "start_time": "2020-11-13T18:01:20.412357Z"
    }
   },
   "outputs": [
    {
     "data": {
      "text/plain": [
       "'Record'"
      ]
     },
     "execution_count": 87,
     "metadata": {},
     "output_type": "execute_result"
    }
   ],
   "source": [
    "soup.find_all('div', attrs={'class':'product-field product_field_43 product-field-type_1'})[0].text.strip().split('\\r\\n\\n')[1]"
   ]
  },
  {
   "cell_type": "code",
   "execution_count": 88,
   "metadata": {
    "ExecuteTime": {
     "end_time": "2020-11-13T18:02:24.439573Z",
     "start_time": "2020-11-13T18:02:24.412872Z"
    }
   },
   "outputs": [
    {
     "data": {
      "text/plain": [
       "['Record',\n",
       " 'Globo',\n",
       " 'Estação Brasil',\n",
       " 'Companhia das Letras',\n",
       " 'Companhia das Letras',\n",
       " 'Objetiva',\n",
       " 'Intrínseca',\n",
       " 'Matrix',\n",
       " 'Companhia das Letras',\n",
       " 'Stachinni',\n",
       " 'Polen',\n",
       " 'Gutenberg',\n",
       " 'Rocco',\n",
       " 'Principium',\n",
       " 'Editora 34',\n",
       " 'Globo',\n",
       " 'Zahar',\n",
       " 'Companhia das Letras',\n",
       " 'Bertrand Brasil',\n",
       " 'Todavia']"
      ]
     },
     "execution_count": 88,
     "metadata": {},
     "output_type": "execute_result"
    }
   ],
   "source": [
    "editoras = [x.text.strip().split('\\r\\n\\n')[1] for x in soup.find_all('div', attrs={'class':'product-field product_field_43 product-field-type_1'})]\n",
    "editoras"
   ]
  },
  {
   "cell_type": "code",
   "execution_count": 89,
   "metadata": {
    "ExecuteTime": {
     "end_time": "2020-11-13T18:05:07.313936Z",
     "start_time": "2020-11-13T18:05:07.276034Z"
    }
   },
   "outputs": [
    {
     "data": {
      "text/plain": [
       "'R$ 34,90'"
      ]
     },
     "execution_count": 89,
     "metadata": {},
     "output_type": "execute_result"
    }
   ],
   "source": [
    "soup.find_all('span', attrs={'class':'best-price'})[0].text.strip()"
   ]
  },
  {
   "cell_type": "code",
   "execution_count": 158,
   "metadata": {
    "ExecuteTime": {
     "end_time": "2020-11-13T21:13:44.435278Z",
     "start_time": "2020-11-13T21:13:44.413366Z"
    }
   },
   "outputs": [
    {
     "data": {
      "text/plain": [
       "[]"
      ]
     },
     "execution_count": 158,
     "metadata": {},
     "output_type": "execute_result"
    }
   ],
   "source": [
    "prices = [x.text.strip() for x in soup.find_all('span', attrs={'class':'best-price'})]\n"
   ]
  },
  {
   "cell_type": "code",
   "execution_count": 92,
   "metadata": {
    "ExecuteTime": {
     "end_time": "2020-11-13T18:07:09.931443Z",
     "start_time": "2020-11-13T18:07:09.922517Z"
    }
   },
   "outputs": [
    {
     "data": {
      "text/plain": [
       "20"
      ]
     },
     "execution_count": 92,
     "metadata": {},
     "output_type": "execute_result"
    }
   ],
   "source": [
    "len(prices)"
   ]
  },
  {
   "cell_type": "markdown",
   "metadata": {},
   "source": [
    "## Get the DataFrame of the 20 books of the page"
   ]
  },
  {
   "cell_type": "code",
   "execution_count": 96,
   "metadata": {
    "ExecuteTime": {
     "end_time": "2020-11-13T18:23:18.788773Z",
     "start_time": "2020-11-13T18:23:18.696513Z"
    }
   },
   "outputs": [
    {
     "data": {
      "text/html": [
       "<div>\n",
       "<style scoped>\n",
       "    .dataframe tbody tr th:only-of-type {\n",
       "        vertical-align: middle;\n",
       "    }\n",
       "\n",
       "    .dataframe tbody tr th {\n",
       "        vertical-align: top;\n",
       "    }\n",
       "\n",
       "    .dataframe thead th {\n",
       "        text-align: right;\n",
       "    }\n",
       "</style>\n",
       "<table border=\"1\" class=\"dataframe\">\n",
       "  <thead>\n",
       "    <tr style=\"text-align: right;\">\n",
       "      <th></th>\n",
       "      <th>Título</th>\n",
       "      <th>Autor</th>\n",
       "      <th>Editora</th>\n",
       "      <th>Preço</th>\n",
       "    </tr>\n",
       "  </thead>\n",
       "  <tbody>\n",
       "    <tr>\n",
       "      <th>0</th>\n",
       "      <td>Os Últimos Melhores Dias da Minha Vida</td>\n",
       "      <td>Gilberto Dimenstein, Anna Penido</td>\n",
       "      <td>Record</td>\n",
       "      <td>R$ 34,90</td>\n",
       "    </tr>\n",
       "    <tr>\n",
       "      <th>1</th>\n",
       "      <td>Woody Allen - a Autobiografia</td>\n",
       "      <td>Woody Allen</td>\n",
       "      <td>Globo</td>\n",
       "      <td>R$ 49,90</td>\n",
       "    </tr>\n",
       "    <tr>\n",
       "      <th>2</th>\n",
       "      <td>De Cu Pra Lua</td>\n",
       "      <td>Nelson Motta</td>\n",
       "      <td>Estação Brasil</td>\n",
       "      <td>R$ 69,90</td>\n",
       "    </tr>\n",
       "    <tr>\n",
       "      <th>3</th>\n",
       "      <td>Autobiografia Precoce</td>\n",
       "      <td>Pagu</td>\n",
       "      <td>Companhia das Letras</td>\n",
       "      <td>R$ 59,90</td>\n",
       "    </tr>\n",
       "    <tr>\n",
       "      <th>4</th>\n",
       "      <td>Samuel Wainer - o Homem Que Estava Lá</td>\n",
       "      <td>Karla Monteiro</td>\n",
       "      <td>Companhia das Letras</td>\n",
       "      <td>R$ 89,90</td>\n",
       "    </tr>\n",
       "    <tr>\n",
       "      <th>5</th>\n",
       "      <td>Um Paciente Chamado Brasil</td>\n",
       "      <td>Luiz Henrique Mandetta</td>\n",
       "      <td>Objetiva</td>\n",
       "      <td>R$ 49,90</td>\n",
       "    </tr>\n",
       "    <tr>\n",
       "      <th>6</th>\n",
       "      <td>Onde os Sonhos Acontecem - Meus 15 Anos Como C...</td>\n",
       "      <td>Robert Iger</td>\n",
       "      <td>Intrínseca</td>\n",
       "      <td>R$ 49,90</td>\n",
       "    </tr>\n",
       "    <tr>\n",
       "      <th>7</th>\n",
       "      <td>Sonho Sequestrado</td>\n",
       "      <td>Marcondes Gadelha</td>\n",
       "      <td>Matrix</td>\n",
       "      <td>R$ 42,00</td>\n",
       "    </tr>\n",
       "    <tr>\n",
       "      <th>8</th>\n",
       "      <td>Narciso em Férias</td>\n",
       "      <td>Caetano Veloso</td>\n",
       "      <td>Companhia das Letras</td>\n",
       "      <td>R$ 59,90</td>\n",
       "    </tr>\n",
       "    <tr>\n",
       "      <th>9</th>\n",
       "      <td>Vida Começava La, a - Uma Historia de Repercus...</td>\n",
       "      <td>Fernando Barba, Renata Ferraz Torres</td>\n",
       "      <td>Stachinni</td>\n",
       "      <td>R$ 50,00</td>\n",
       "    </tr>\n",
       "    <tr>\n",
       "      <th>10</th>\n",
       "      <td>Escritos de Uma Vida</td>\n",
       "      <td>Sueli Carneiro</td>\n",
       "      <td>Polen</td>\n",
       "      <td>R$ 46,00</td>\n",
       "    </tr>\n",
       "    <tr>\n",
       "      <th>11</th>\n",
       "      <td>Francisco, o Papa da Esperança</td>\n",
       "      <td>José Laércio de Lima</td>\n",
       "      <td>Gutenberg</td>\n",
       "      <td>R$ 44,90</td>\n",
       "    </tr>\n",
       "    <tr>\n",
       "      <th>12</th>\n",
       "      <td>Quem Matou John Lennon?</td>\n",
       "      <td>Lesley -Ann Jones</td>\n",
       "      <td>Rocco</td>\n",
       "      <td>R$ 89,90</td>\n",
       "    </tr>\n",
       "    <tr>\n",
       "      <th>13</th>\n",
       "      <td>Enquanto Estivermos Juntos</td>\n",
       "      <td>Jeremy Camp</td>\n",
       "      <td>Principium</td>\n",
       "      <td>R$ 39,90</td>\n",
       "    </tr>\n",
       "    <tr>\n",
       "      <th>14</th>\n",
       "      <td>O Violão Vadio de Baden Powell</td>\n",
       "      <td>Dominique Dreyfus</td>\n",
       "      <td>Editora 34</td>\n",
       "      <td>R$ 76,00</td>\n",
       "    </tr>\n",
       "    <tr>\n",
       "      <th>15</th>\n",
       "      <td>Sou a Mãe Dela</td>\n",
       "      <td>Adriana Araújo</td>\n",
       "      <td>Globo</td>\n",
       "      <td>R$ 44,90</td>\n",
       "    </tr>\n",
       "    <tr>\n",
       "      <th>16</th>\n",
       "      <td>Bauman - Uma Biografia</td>\n",
       "      <td>Izabela Wagner</td>\n",
       "      <td>Zahar</td>\n",
       "      <td>R$ 109,90</td>\n",
       "    </tr>\n",
       "    <tr>\n",
       "      <th>17</th>\n",
       "      <td>Tempo Vida Poesia</td>\n",
       "      <td>Carlos Drummond de Andrade</td>\n",
       "      <td>Companhia das Letras</td>\n",
       "      <td>R$ 74,90</td>\n",
       "    </tr>\n",
       "    <tr>\n",
       "      <th>18</th>\n",
       "      <td>Mulheres de Minha Alma</td>\n",
       "      <td>Isabel Allende</td>\n",
       "      <td>Bertrand Brasil</td>\n",
       "      <td>R$ 49,90</td>\n",
       "    </tr>\n",
       "    <tr>\n",
       "      <th>19</th>\n",
       "      <td>Nós, Mulheres</td>\n",
       "      <td>Rosa Montero</td>\n",
       "      <td>Todavia</td>\n",
       "      <td>R$ 64,90</td>\n",
       "    </tr>\n",
       "  </tbody>\n",
       "</table>\n",
       "</div>"
      ],
      "text/plain": [
       "                                               Título  \\\n",
       "0              Os Últimos Melhores Dias da Minha Vida   \n",
       "1                       Woody Allen - a Autobiografia   \n",
       "2                                       De Cu Pra Lua   \n",
       "3                               Autobiografia Precoce   \n",
       "4               Samuel Wainer - o Homem Que Estava Lá   \n",
       "5                          Um Paciente Chamado Brasil   \n",
       "6   Onde os Sonhos Acontecem - Meus 15 Anos Como C...   \n",
       "7                                   Sonho Sequestrado   \n",
       "8                                   Narciso em Férias   \n",
       "9   Vida Começava La, a - Uma Historia de Repercus...   \n",
       "10                               Escritos de Uma Vida   \n",
       "11                     Francisco, o Papa da Esperança   \n",
       "12                            Quem Matou John Lennon?   \n",
       "13                         Enquanto Estivermos Juntos   \n",
       "14                     O Violão Vadio de Baden Powell   \n",
       "15                                     Sou a Mãe Dela   \n",
       "16                             Bauman - Uma Biografia   \n",
       "17                                  Tempo Vida Poesia   \n",
       "18                             Mulheres de Minha Alma   \n",
       "19                                      Nós, Mulheres   \n",
       "\n",
       "                                   Autor               Editora      Preço  \n",
       "0       Gilberto Dimenstein, Anna Penido                Record   R$ 34,90  \n",
       "1                            Woody Allen                 Globo   R$ 49,90  \n",
       "2                           Nelson Motta        Estação Brasil   R$ 69,90  \n",
       "3                                   Pagu  Companhia das Letras   R$ 59,90  \n",
       "4                         Karla Monteiro  Companhia das Letras   R$ 89,90  \n",
       "5                 Luiz Henrique Mandetta              Objetiva   R$ 49,90  \n",
       "6                            Robert Iger            Intrínseca   R$ 49,90  \n",
       "7                      Marcondes Gadelha                Matrix   R$ 42,00  \n",
       "8                         Caetano Veloso  Companhia das Letras   R$ 59,90  \n",
       "9   Fernando Barba, Renata Ferraz Torres             Stachinni   R$ 50,00  \n",
       "10                        Sueli Carneiro                 Polen   R$ 46,00  \n",
       "11                  José Laércio de Lima             Gutenberg   R$ 44,90  \n",
       "12                     Lesley -Ann Jones                 Rocco   R$ 89,90  \n",
       "13                           Jeremy Camp            Principium   R$ 39,90  \n",
       "14                     Dominique Dreyfus            Editora 34   R$ 76,00  \n",
       "15                        Adriana Araújo                 Globo   R$ 44,90  \n",
       "16                        Izabela Wagner                 Zahar  R$ 109,90  \n",
       "17            Carlos Drummond de Andrade  Companhia das Letras   R$ 74,90  \n",
       "18                        Isabel Allende       Bertrand Brasil   R$ 49,90  \n",
       "19                          Rosa Montero               Todavia   R$ 64,90  "
      ]
     },
     "execution_count": 96,
     "metadata": {},
     "output_type": "execute_result"
    }
   ],
   "source": [
    "pd.DataFrame({'Título':titles, 'Autor':authors , 'Editora':editoras , 'Preço':prices})"
   ]
  },
  {
   "cell_type": "markdown",
   "metadata": {},
   "source": [
    "## Create a Spider, to include all books \"Biography\" in a DataFrame, with prices, therefore available for sale"
   ]
  },
  {
   "cell_type": "code",
   "execution_count": 151,
   "metadata": {
    "ExecuteTime": {
     "end_time": "2020-11-13T21:06:49.286825Z",
     "start_time": "2020-11-13T21:01:48.395638Z"
    }
   },
   "outputs": [],
   "source": [
    "url = 'https://www.livrariadavila.com.br/livros/nao-ficcao/biografia?PS=20'\n",
    "df=pd.DataFrame(columns=['Título','Autor','Editora','Preço'])\n",
    "for i in range(1,42):\n",
    "    url=f'http://www.livrariadavila.com.br/livros/nao-ficcao/biografia?PS=20#{i}'\n",
    "    chrome_path = '/Users/ivan/Desktop/chromedriver'\n",
    "    driver=webdriver.Chrome(executable_path=chrome_path)\n",
    "    driver.get(url)\n",
    "    html=driver.page_source\n",
    "    driver.close()    \n",
    "    soup = BeautifulSoup(html) \n",
    "    if len(soup.find_all('span', attrs={'class':'out-of-stock'}))==0:\n",
    "        titles = [s.find_all('a')[0]['title'].strip() for s in soup.find_all('b', attrs={'class':'product-name'})]\n",
    "        authors = [x.text.strip().split('\\n\\n')[1] for x in soup.find_all('div', attrs={'class':'product-field product_field_40 product-field-type_1'})]\n",
    "        editoras = [x.text.strip().split('\\n\\n')[1] for x in soup.find_all('div', attrs={'class':'product-field product_field_43 product-field-type_1'})]\n",
    "        prices = [x.text.strip() for x in soup.find_all('span', attrs={'class':'best-price'})]\n",
    "        df_temp=pd.DataFrame({'Título':titles, 'Autor':authors , 'Editora':editoras , 'Preço':prices})\n",
    "        df=df.append(df_temp)\n",
    "    else :\n",
    "        pass"
   ]
  },
  {
   "cell_type": "code",
   "execution_count": 152,
   "metadata": {
    "ExecuteTime": {
     "end_time": "2020-11-13T21:07:11.924029Z",
     "start_time": "2020-11-13T21:07:11.895331Z"
    }
   },
   "outputs": [
    {
     "data": {
      "text/html": [
       "<div>\n",
       "<style scoped>\n",
       "    .dataframe tbody tr th:only-of-type {\n",
       "        vertical-align: middle;\n",
       "    }\n",
       "\n",
       "    .dataframe tbody tr th {\n",
       "        vertical-align: top;\n",
       "    }\n",
       "\n",
       "    .dataframe thead th {\n",
       "        text-align: right;\n",
       "    }\n",
       "</style>\n",
       "<table border=\"1\" class=\"dataframe\">\n",
       "  <thead>\n",
       "    <tr style=\"text-align: right;\">\n",
       "      <th></th>\n",
       "      <th>Título</th>\n",
       "      <th>Autor</th>\n",
       "      <th>Editora</th>\n",
       "      <th>Preço</th>\n",
       "    </tr>\n",
       "  </thead>\n",
       "  <tbody>\n",
       "    <tr>\n",
       "      <th>0</th>\n",
       "      <td>Os Últimos Melhores Dias da Minha Vida</td>\n",
       "      <td>Gilberto Dimenstein,  Anna Penido</td>\n",
       "      <td>Record</td>\n",
       "      <td>R$ 34,90</td>\n",
       "    </tr>\n",
       "    <tr>\n",
       "      <th>1</th>\n",
       "      <td>Woody Allen - a Autobiografia</td>\n",
       "      <td>Woody Allen</td>\n",
       "      <td>Globo</td>\n",
       "      <td>R$ 49,90</td>\n",
       "    </tr>\n",
       "    <tr>\n",
       "      <th>2</th>\n",
       "      <td>De Cu Pra Lua</td>\n",
       "      <td>Nelson Motta</td>\n",
       "      <td>Estação Brasil</td>\n",
       "      <td>R$ 69,90</td>\n",
       "    </tr>\n",
       "    <tr>\n",
       "      <th>3</th>\n",
       "      <td>Autobiografia Precoce</td>\n",
       "      <td>Pagu</td>\n",
       "      <td>Companhia das Letras</td>\n",
       "      <td>R$ 59,90</td>\n",
       "    </tr>\n",
       "    <tr>\n",
       "      <th>4</th>\n",
       "      <td>Samuel Wainer - o Homem Que Estava Lá</td>\n",
       "      <td>Karla Monteiro</td>\n",
       "      <td>Companhia das Letras</td>\n",
       "      <td>R$ 89,90</td>\n",
       "    </tr>\n",
       "    <tr>\n",
       "      <th>...</th>\n",
       "      <td>...</td>\n",
       "      <td>...</td>\n",
       "      <td>...</td>\n",
       "      <td>...</td>\n",
       "    </tr>\n",
       "    <tr>\n",
       "      <th>15</th>\n",
       "      <td>Dura na Queda</td>\n",
       "      <td>Marina Maggessi</td>\n",
       "      <td>Objetiva</td>\n",
       "      <td>R$ 45,90</td>\n",
       "    </tr>\n",
       "    <tr>\n",
       "      <th>16</th>\n",
       "      <td>Marilyn e Jfk</td>\n",
       "      <td>François Forestier</td>\n",
       "      <td>Objetiva</td>\n",
       "      <td>R$ 52,90</td>\n",
       "    </tr>\n",
       "    <tr>\n",
       "      <th>17</th>\n",
       "      <td>Uma Arte - as Cartas de Elizabeth Bishop</td>\n",
       "      <td>Elizabeth Bishop</td>\n",
       "      <td>Companhia das Letras</td>\n",
       "      <td>R$ 87,90</td>\n",
       "    </tr>\n",
       "    <tr>\n",
       "      <th>18</th>\n",
       "      <td>No Ar Rarefeito - Um Relato da Tragedia no Eve...</td>\n",
       "      <td>Jon Krakauer</td>\n",
       "      <td>Companhia de Bolso</td>\n",
       "      <td>R$ 34,90</td>\n",
       "    </tr>\n",
       "    <tr>\n",
       "      <th>19</th>\n",
       "      <td>Trinta Olhares sobre Hillary - Reflexões por E...</td>\n",
       "      <td>Susan Morrison</td>\n",
       "      <td>Larousse do Brasil</td>\n",
       "      <td>R$ 44,90</td>\n",
       "    </tr>\n",
       "  </tbody>\n",
       "</table>\n",
       "<p>380 rows × 4 columns</p>\n",
       "</div>"
      ],
      "text/plain": [
       "                                               Título  \\\n",
       "0              Os Últimos Melhores Dias da Minha Vida   \n",
       "1                       Woody Allen - a Autobiografia   \n",
       "2                                       De Cu Pra Lua   \n",
       "3                               Autobiografia Precoce   \n",
       "4               Samuel Wainer - o Homem Que Estava Lá   \n",
       "..                                                ...   \n",
       "15                                      Dura na Queda   \n",
       "16                                      Marilyn e Jfk   \n",
       "17           Uma Arte - as Cartas de Elizabeth Bishop   \n",
       "18  No Ar Rarefeito - Um Relato da Tragedia no Eve...   \n",
       "19  Trinta Olhares sobre Hillary - Reflexões por E...   \n",
       "\n",
       "                                Autor               Editora     Preço  \n",
       "0   Gilberto Dimenstein,  Anna Penido                Record  R$ 34,90  \n",
       "1                         Woody Allen                 Globo  R$ 49,90  \n",
       "2                        Nelson Motta        Estação Brasil  R$ 69,90  \n",
       "3                                Pagu  Companhia das Letras  R$ 59,90  \n",
       "4                      Karla Monteiro  Companhia das Letras  R$ 89,90  \n",
       "..                                ...                   ...       ...  \n",
       "15                    Marina Maggessi              Objetiva  R$ 45,90  \n",
       "16                 François Forestier              Objetiva  R$ 52,90  \n",
       "17                   Elizabeth Bishop  Companhia das Letras  R$ 87,90  \n",
       "18                       Jon Krakauer    Companhia de Bolso  R$ 34,90  \n",
       "19                     Susan Morrison    Larousse do Brasil  R$ 44,90  \n",
       "\n",
       "[380 rows x 4 columns]"
      ]
     },
     "execution_count": 152,
     "metadata": {},
     "output_type": "execute_result"
    }
   ],
   "source": [
    "df"
   ]
  },
  {
   "cell_type": "code",
   "execution_count": 155,
   "metadata": {
    "ExecuteTime": {
     "end_time": "2020-11-13T21:07:55.873004Z",
     "start_time": "2020-11-13T21:07:55.862454Z"
    }
   },
   "outputs": [
    {
     "data": {
      "text/plain": [
       "380"
      ]
     },
     "execution_count": 155,
     "metadata": {},
     "output_type": "execute_result"
    }
   ],
   "source": [
    "len(df)"
   ]
  },
  {
   "cell_type": "code",
   "execution_count": 156,
   "metadata": {
    "ExecuteTime": {
     "end_time": "2020-11-13T21:07:56.933393Z",
     "start_time": "2020-11-13T21:07:56.926792Z"
    }
   },
   "outputs": [],
   "source": [
    "df1 = df.reset_index()"
   ]
  },
  {
   "cell_type": "code",
   "execution_count": 157,
   "metadata": {
    "ExecuteTime": {
     "end_time": "2020-11-13T21:07:58.108547Z",
     "start_time": "2020-11-13T21:07:58.080351Z"
    },
    "scrolled": true
   },
   "outputs": [
    {
     "data": {
      "text/html": [
       "<div>\n",
       "<style scoped>\n",
       "    .dataframe tbody tr th:only-of-type {\n",
       "        vertical-align: middle;\n",
       "    }\n",
       "\n",
       "    .dataframe tbody tr th {\n",
       "        vertical-align: top;\n",
       "    }\n",
       "\n",
       "    .dataframe thead th {\n",
       "        text-align: right;\n",
       "    }\n",
       "</style>\n",
       "<table border=\"1\" class=\"dataframe\">\n",
       "  <thead>\n",
       "    <tr style=\"text-align: right;\">\n",
       "      <th></th>\n",
       "      <th>index</th>\n",
       "      <th>Título</th>\n",
       "      <th>Autor</th>\n",
       "      <th>Editora</th>\n",
       "      <th>Preço</th>\n",
       "    </tr>\n",
       "  </thead>\n",
       "  <tbody>\n",
       "    <tr>\n",
       "      <th>0</th>\n",
       "      <td>0</td>\n",
       "      <td>Os Últimos Melhores Dias da Minha Vida</td>\n",
       "      <td>Gilberto Dimenstein,  Anna Penido</td>\n",
       "      <td>Record</td>\n",
       "      <td>R$ 34,90</td>\n",
       "    </tr>\n",
       "    <tr>\n",
       "      <th>1</th>\n",
       "      <td>1</td>\n",
       "      <td>Woody Allen - a Autobiografia</td>\n",
       "      <td>Woody Allen</td>\n",
       "      <td>Globo</td>\n",
       "      <td>R$ 49,90</td>\n",
       "    </tr>\n",
       "    <tr>\n",
       "      <th>2</th>\n",
       "      <td>2</td>\n",
       "      <td>De Cu Pra Lua</td>\n",
       "      <td>Nelson Motta</td>\n",
       "      <td>Estação Brasil</td>\n",
       "      <td>R$ 69,90</td>\n",
       "    </tr>\n",
       "    <tr>\n",
       "      <th>3</th>\n",
       "      <td>3</td>\n",
       "      <td>Autobiografia Precoce</td>\n",
       "      <td>Pagu</td>\n",
       "      <td>Companhia das Letras</td>\n",
       "      <td>R$ 59,90</td>\n",
       "    </tr>\n",
       "    <tr>\n",
       "      <th>4</th>\n",
       "      <td>4</td>\n",
       "      <td>Samuel Wainer - o Homem Que Estava Lá</td>\n",
       "      <td>Karla Monteiro</td>\n",
       "      <td>Companhia das Letras</td>\n",
       "      <td>R$ 89,90</td>\n",
       "    </tr>\n",
       "    <tr>\n",
       "      <th>...</th>\n",
       "      <td>...</td>\n",
       "      <td>...</td>\n",
       "      <td>...</td>\n",
       "      <td>...</td>\n",
       "      <td>...</td>\n",
       "    </tr>\n",
       "    <tr>\n",
       "      <th>375</th>\n",
       "      <td>15</td>\n",
       "      <td>Dura na Queda</td>\n",
       "      <td>Marina Maggessi</td>\n",
       "      <td>Objetiva</td>\n",
       "      <td>R$ 45,90</td>\n",
       "    </tr>\n",
       "    <tr>\n",
       "      <th>376</th>\n",
       "      <td>16</td>\n",
       "      <td>Marilyn e Jfk</td>\n",
       "      <td>François Forestier</td>\n",
       "      <td>Objetiva</td>\n",
       "      <td>R$ 52,90</td>\n",
       "    </tr>\n",
       "    <tr>\n",
       "      <th>377</th>\n",
       "      <td>17</td>\n",
       "      <td>Uma Arte - as Cartas de Elizabeth Bishop</td>\n",
       "      <td>Elizabeth Bishop</td>\n",
       "      <td>Companhia das Letras</td>\n",
       "      <td>R$ 87,90</td>\n",
       "    </tr>\n",
       "    <tr>\n",
       "      <th>378</th>\n",
       "      <td>18</td>\n",
       "      <td>No Ar Rarefeito - Um Relato da Tragedia no Eve...</td>\n",
       "      <td>Jon Krakauer</td>\n",
       "      <td>Companhia de Bolso</td>\n",
       "      <td>R$ 34,90</td>\n",
       "    </tr>\n",
       "    <tr>\n",
       "      <th>379</th>\n",
       "      <td>19</td>\n",
       "      <td>Trinta Olhares sobre Hillary - Reflexões por E...</td>\n",
       "      <td>Susan Morrison</td>\n",
       "      <td>Larousse do Brasil</td>\n",
       "      <td>R$ 44,90</td>\n",
       "    </tr>\n",
       "  </tbody>\n",
       "</table>\n",
       "<p>380 rows × 5 columns</p>\n",
       "</div>"
      ],
      "text/plain": [
       "     index                                             Título  \\\n",
       "0        0             Os Últimos Melhores Dias da Minha Vida   \n",
       "1        1                      Woody Allen - a Autobiografia   \n",
       "2        2                                      De Cu Pra Lua   \n",
       "3        3                              Autobiografia Precoce   \n",
       "4        4              Samuel Wainer - o Homem Que Estava Lá   \n",
       "..     ...                                                ...   \n",
       "375     15                                      Dura na Queda   \n",
       "376     16                                      Marilyn e Jfk   \n",
       "377     17           Uma Arte - as Cartas de Elizabeth Bishop   \n",
       "378     18  No Ar Rarefeito - Um Relato da Tragedia no Eve...   \n",
       "379     19  Trinta Olhares sobre Hillary - Reflexões por E...   \n",
       "\n",
       "                                 Autor               Editora     Preço  \n",
       "0    Gilberto Dimenstein,  Anna Penido                Record  R$ 34,90  \n",
       "1                          Woody Allen                 Globo  R$ 49,90  \n",
       "2                         Nelson Motta        Estação Brasil  R$ 69,90  \n",
       "3                                 Pagu  Companhia das Letras  R$ 59,90  \n",
       "4                       Karla Monteiro  Companhia das Letras  R$ 89,90  \n",
       "..                                 ...                   ...       ...  \n",
       "375                    Marina Maggessi              Objetiva  R$ 45,90  \n",
       "376                 François Forestier              Objetiva  R$ 52,90  \n",
       "377                   Elizabeth Bishop  Companhia das Letras  R$ 87,90  \n",
       "378                       Jon Krakauer    Companhia de Bolso  R$ 34,90  \n",
       "379                     Susan Morrison    Larousse do Brasil  R$ 44,90  \n",
       "\n",
       "[380 rows x 5 columns]"
      ]
     },
     "execution_count": 157,
     "metadata": {},
     "output_type": "execute_result"
    }
   ],
   "source": [
    "df1"
   ]
  },
  {
   "cell_type": "markdown",
   "metadata": {},
   "source": [
    "## Create a spider, now including books without prices, not available for sale"
   ]
  },
  {
   "cell_type": "code",
   "execution_count": 159,
   "metadata": {
    "ExecuteTime": {
     "end_time": "2020-11-13T22:29:38.667818Z",
     "start_time": "2020-11-13T22:24:57.722716Z"
    }
   },
   "outputs": [],
   "source": [
    "url = 'https://www.livrariadavila.com.br/livros/nao-ficcao/biografia?PS=20'\n",
    "df=pd.DataFrame(columns=['Título','Autor','Editora','Preço'])\n",
    "for i in range(1,42):\n",
    "    url=f'http://www.livrariadavila.com.br/livros/nao-ficcao/biografia?PS=20#{i}'\n",
    "    chrome_path = '/Users/ivan/Desktop/chromedriver'\n",
    "    driver=webdriver.Chrome(executable_path=chrome_path)\n",
    "    driver.get(url)\n",
    "    html=driver.page_source\n",
    "    driver.close()    \n",
    "    soup = BeautifulSoup(html) \n",
    "    titles = [s.find_all('a')[0]['title'].strip() for s in soup.find_all('b', attrs={'class':'product-name'})]\n",
    "    authors = [x.text.strip().split('\\n\\n')[1] for x in soup.find_all('div', attrs={'class':'product-field product_field_40 product-field-type_1'})]\n",
    "    editoras = [x.text.strip().split('\\n\\n')[1] for x in soup.find_all('div', attrs={'class':'product-field product_field_43 product-field-type_1'})]\n",
    "    prices=[]\n",
    "    for item in BeautifulSoup(html).find_all('span',{'class':'box-item'}):\n",
    "        try:\n",
    "            prices.append(item.find_all('span', attrs={'class':'best-price'})[0].text.strip())\n",
    "        except:\n",
    "            prices.append(item.find_all('span', attrs={'class':'out-of-stock'})[0].text.strip())\n",
    "    df_temp=pd.DataFrame({'Título':titles, 'Autor':authors , 'Editora':editoras , 'Preço':prices})\n",
    "    df=df.append(df_temp)\n",
    "    "
   ]
  },
  {
   "cell_type": "code",
   "execution_count": 160,
   "metadata": {
    "ExecuteTime": {
     "end_time": "2020-11-13T22:30:06.513985Z",
     "start_time": "2020-11-13T22:30:06.494199Z"
    }
   },
   "outputs": [
    {
     "data": {
      "text/html": [
       "<div>\n",
       "<style scoped>\n",
       "    .dataframe tbody tr th:only-of-type {\n",
       "        vertical-align: middle;\n",
       "    }\n",
       "\n",
       "    .dataframe tbody tr th {\n",
       "        vertical-align: top;\n",
       "    }\n",
       "\n",
       "    .dataframe thead th {\n",
       "        text-align: right;\n",
       "    }\n",
       "</style>\n",
       "<table border=\"1\" class=\"dataframe\">\n",
       "  <thead>\n",
       "    <tr style=\"text-align: right;\">\n",
       "      <th></th>\n",
       "      <th>Título</th>\n",
       "      <th>Autor</th>\n",
       "      <th>Editora</th>\n",
       "      <th>Preço</th>\n",
       "    </tr>\n",
       "  </thead>\n",
       "  <tbody>\n",
       "    <tr>\n",
       "      <th>0</th>\n",
       "      <td>Os Últimos Melhores Dias da Minha Vida</td>\n",
       "      <td>Gilberto Dimenstein, Anna Penido</td>\n",
       "      <td>Record</td>\n",
       "      <td>R$ 34,90</td>\n",
       "    </tr>\n",
       "    <tr>\n",
       "      <th>1</th>\n",
       "      <td>Woody Allen - a Autobiografia</td>\n",
       "      <td>Woody Allen</td>\n",
       "      <td>Globo</td>\n",
       "      <td>R$ 49,90</td>\n",
       "    </tr>\n",
       "    <tr>\n",
       "      <th>2</th>\n",
       "      <td>De Cu Pra Lua</td>\n",
       "      <td>Nelson Motta</td>\n",
       "      <td>Estação Brasil</td>\n",
       "      <td>R$ 69,90</td>\n",
       "    </tr>\n",
       "    <tr>\n",
       "      <th>3</th>\n",
       "      <td>Autobiografia Precoce</td>\n",
       "      <td>Pagu</td>\n",
       "      <td>Companhia das Letras</td>\n",
       "      <td>R$ 59,90</td>\n",
       "    </tr>\n",
       "    <tr>\n",
       "      <th>4</th>\n",
       "      <td>Samuel Wainer - o Homem Que Estava Lá</td>\n",
       "      <td>Karla Monteiro</td>\n",
       "      <td>Companhia das Letras</td>\n",
       "      <td>R$ 89,90</td>\n",
       "    </tr>\n",
       "    <tr>\n",
       "      <th>...</th>\n",
       "      <td>...</td>\n",
       "      <td>...</td>\n",
       "      <td>...</td>\n",
       "      <td>...</td>\n",
       "    </tr>\n",
       "    <tr>\n",
       "      <th>14</th>\n",
       "      <td>Homens em Tempos Sombrios</td>\n",
       "      <td>Hannah Arendt</td>\n",
       "      <td>Companhia de Bolso</td>\n",
       "      <td>Produto Esgotado</td>\n",
       "    </tr>\n",
       "    <tr>\n",
       "      <th>15</th>\n",
       "      <td>Solo de Clarineta 2 - Memorias</td>\n",
       "      <td>Erico Verissimo</td>\n",
       "      <td>Companhia das Letras</td>\n",
       "      <td>Produto Esgotado</td>\n",
       "    </tr>\n",
       "    <tr>\n",
       "      <th>16</th>\n",
       "      <td>Che Guevara - a Vida em Vermelho</td>\n",
       "      <td>Jorge G. Castañeda</td>\n",
       "      <td>Companhia de Bolso</td>\n",
       "      <td>Produto Esgotado</td>\n",
       "    </tr>\n",
       "    <tr>\n",
       "      <th>17</th>\n",
       "      <td>Beatles, The - a Biografia</td>\n",
       "      <td>Bob Spitz</td>\n",
       "      <td>Larousse do Brasil</td>\n",
       "      <td>Produto Esgotado</td>\n",
       "    </tr>\n",
       "    <tr>\n",
       "      <th>18</th>\n",
       "      <td>Bom Menino. Junto. - Um Elogio À Vida de Um Qu...</td>\n",
       "      <td>Anna Quindlen</td>\n",
       "      <td>Larousse do Brasil</td>\n",
       "      <td>Produto Esgotado</td>\n",
       "    </tr>\n",
       "  </tbody>\n",
       "</table>\n",
       "<p>819 rows × 4 columns</p>\n",
       "</div>"
      ],
      "text/plain": [
       "                                               Título  \\\n",
       "0              Os Últimos Melhores Dias da Minha Vida   \n",
       "1                       Woody Allen - a Autobiografia   \n",
       "2                                       De Cu Pra Lua   \n",
       "3                               Autobiografia Precoce   \n",
       "4               Samuel Wainer - o Homem Que Estava Lá   \n",
       "..                                                ...   \n",
       "14                          Homens em Tempos Sombrios   \n",
       "15                     Solo de Clarineta 2 - Memorias   \n",
       "16                   Che Guevara - a Vida em Vermelho   \n",
       "17                         Beatles, The - a Biografia   \n",
       "18  Bom Menino. Junto. - Um Elogio À Vida de Um Qu...   \n",
       "\n",
       "                               Autor               Editora             Preço  \n",
       "0   Gilberto Dimenstein, Anna Penido                Record          R$ 34,90  \n",
       "1                        Woody Allen                 Globo          R$ 49,90  \n",
       "2                       Nelson Motta        Estação Brasil          R$ 69,90  \n",
       "3                               Pagu  Companhia das Letras          R$ 59,90  \n",
       "4                     Karla Monteiro  Companhia das Letras          R$ 89,90  \n",
       "..                               ...                   ...               ...  \n",
       "14                     Hannah Arendt    Companhia de Bolso  Produto Esgotado  \n",
       "15                   Erico Verissimo  Companhia das Letras  Produto Esgotado  \n",
       "16                Jorge G. Castañeda    Companhia de Bolso  Produto Esgotado  \n",
       "17                         Bob Spitz    Larousse do Brasil  Produto Esgotado  \n",
       "18                     Anna Quindlen    Larousse do Brasil  Produto Esgotado  \n",
       "\n",
       "[819 rows x 4 columns]"
      ]
     },
     "execution_count": 160,
     "metadata": {},
     "output_type": "execute_result"
    }
   ],
   "source": [
    "df"
   ]
  },
  {
   "cell_type": "code",
   "execution_count": 162,
   "metadata": {
    "ExecuteTime": {
     "end_time": "2020-11-13T22:31:38.689457Z",
     "start_time": "2020-11-13T22:31:38.672224Z"
    }
   },
   "outputs": [],
   "source": [
    "df1 = df.reset_index()"
   ]
  },
  {
   "cell_type": "code",
   "execution_count": 163,
   "metadata": {
    "ExecuteTime": {
     "end_time": "2020-11-13T22:31:39.826235Z",
     "start_time": "2020-11-13T22:31:39.803864Z"
    }
   },
   "outputs": [
    {
     "data": {
      "text/html": [
       "<div>\n",
       "<style scoped>\n",
       "    .dataframe tbody tr th:only-of-type {\n",
       "        vertical-align: middle;\n",
       "    }\n",
       "\n",
       "    .dataframe tbody tr th {\n",
       "        vertical-align: top;\n",
       "    }\n",
       "\n",
       "    .dataframe thead th {\n",
       "        text-align: right;\n",
       "    }\n",
       "</style>\n",
       "<table border=\"1\" class=\"dataframe\">\n",
       "  <thead>\n",
       "    <tr style=\"text-align: right;\">\n",
       "      <th></th>\n",
       "      <th>index</th>\n",
       "      <th>Título</th>\n",
       "      <th>Autor</th>\n",
       "      <th>Editora</th>\n",
       "      <th>Preço</th>\n",
       "    </tr>\n",
       "  </thead>\n",
       "  <tbody>\n",
       "    <tr>\n",
       "      <th>0</th>\n",
       "      <td>0</td>\n",
       "      <td>Os Últimos Melhores Dias da Minha Vida</td>\n",
       "      <td>Gilberto Dimenstein, Anna Penido</td>\n",
       "      <td>Record</td>\n",
       "      <td>R$ 34,90</td>\n",
       "    </tr>\n",
       "    <tr>\n",
       "      <th>1</th>\n",
       "      <td>1</td>\n",
       "      <td>Woody Allen - a Autobiografia</td>\n",
       "      <td>Woody Allen</td>\n",
       "      <td>Globo</td>\n",
       "      <td>R$ 49,90</td>\n",
       "    </tr>\n",
       "    <tr>\n",
       "      <th>2</th>\n",
       "      <td>2</td>\n",
       "      <td>De Cu Pra Lua</td>\n",
       "      <td>Nelson Motta</td>\n",
       "      <td>Estação Brasil</td>\n",
       "      <td>R$ 69,90</td>\n",
       "    </tr>\n",
       "    <tr>\n",
       "      <th>3</th>\n",
       "      <td>3</td>\n",
       "      <td>Autobiografia Precoce</td>\n",
       "      <td>Pagu</td>\n",
       "      <td>Companhia das Letras</td>\n",
       "      <td>R$ 59,90</td>\n",
       "    </tr>\n",
       "    <tr>\n",
       "      <th>4</th>\n",
       "      <td>4</td>\n",
       "      <td>Samuel Wainer - o Homem Que Estava Lá</td>\n",
       "      <td>Karla Monteiro</td>\n",
       "      <td>Companhia das Letras</td>\n",
       "      <td>R$ 89,90</td>\n",
       "    </tr>\n",
       "    <tr>\n",
       "      <th>...</th>\n",
       "      <td>...</td>\n",
       "      <td>...</td>\n",
       "      <td>...</td>\n",
       "      <td>...</td>\n",
       "      <td>...</td>\n",
       "    </tr>\n",
       "    <tr>\n",
       "      <th>814</th>\n",
       "      <td>14</td>\n",
       "      <td>Homens em Tempos Sombrios</td>\n",
       "      <td>Hannah Arendt</td>\n",
       "      <td>Companhia de Bolso</td>\n",
       "      <td>Produto Esgotado</td>\n",
       "    </tr>\n",
       "    <tr>\n",
       "      <th>815</th>\n",
       "      <td>15</td>\n",
       "      <td>Solo de Clarineta 2 - Memorias</td>\n",
       "      <td>Erico Verissimo</td>\n",
       "      <td>Companhia das Letras</td>\n",
       "      <td>Produto Esgotado</td>\n",
       "    </tr>\n",
       "    <tr>\n",
       "      <th>816</th>\n",
       "      <td>16</td>\n",
       "      <td>Che Guevara - a Vida em Vermelho</td>\n",
       "      <td>Jorge G. Castañeda</td>\n",
       "      <td>Companhia de Bolso</td>\n",
       "      <td>Produto Esgotado</td>\n",
       "    </tr>\n",
       "    <tr>\n",
       "      <th>817</th>\n",
       "      <td>17</td>\n",
       "      <td>Beatles, The - a Biografia</td>\n",
       "      <td>Bob Spitz</td>\n",
       "      <td>Larousse do Brasil</td>\n",
       "      <td>Produto Esgotado</td>\n",
       "    </tr>\n",
       "    <tr>\n",
       "      <th>818</th>\n",
       "      <td>18</td>\n",
       "      <td>Bom Menino. Junto. - Um Elogio À Vida de Um Qu...</td>\n",
       "      <td>Anna Quindlen</td>\n",
       "      <td>Larousse do Brasil</td>\n",
       "      <td>Produto Esgotado</td>\n",
       "    </tr>\n",
       "  </tbody>\n",
       "</table>\n",
       "<p>819 rows × 5 columns</p>\n",
       "</div>"
      ],
      "text/plain": [
       "     index                                             Título  \\\n",
       "0        0             Os Últimos Melhores Dias da Minha Vida   \n",
       "1        1                      Woody Allen - a Autobiografia   \n",
       "2        2                                      De Cu Pra Lua   \n",
       "3        3                              Autobiografia Precoce   \n",
       "4        4              Samuel Wainer - o Homem Que Estava Lá   \n",
       "..     ...                                                ...   \n",
       "814     14                          Homens em Tempos Sombrios   \n",
       "815     15                     Solo de Clarineta 2 - Memorias   \n",
       "816     16                   Che Guevara - a Vida em Vermelho   \n",
       "817     17                         Beatles, The - a Biografia   \n",
       "818     18  Bom Menino. Junto. - Um Elogio À Vida de Um Qu...   \n",
       "\n",
       "                                Autor               Editora             Preço  \n",
       "0    Gilberto Dimenstein, Anna Penido                Record          R$ 34,90  \n",
       "1                         Woody Allen                 Globo          R$ 49,90  \n",
       "2                        Nelson Motta        Estação Brasil          R$ 69,90  \n",
       "3                                Pagu  Companhia das Letras          R$ 59,90  \n",
       "4                      Karla Monteiro  Companhia das Letras          R$ 89,90  \n",
       "..                                ...                   ...               ...  \n",
       "814                     Hannah Arendt    Companhia de Bolso  Produto Esgotado  \n",
       "815                   Erico Verissimo  Companhia das Letras  Produto Esgotado  \n",
       "816                Jorge G. Castañeda    Companhia de Bolso  Produto Esgotado  \n",
       "817                         Bob Spitz    Larousse do Brasil  Produto Esgotado  \n",
       "818                     Anna Quindlen    Larousse do Brasil  Produto Esgotado  \n",
       "\n",
       "[819 rows x 5 columns]"
      ]
     },
     "execution_count": 163,
     "metadata": {},
     "output_type": "execute_result"
    }
   ],
   "source": [
    "df1"
   ]
  },
  {
   "cell_type": "markdown",
   "metadata": {},
   "source": [
    "## Export to PG Admin - SQL\n"
   ]
  },
  {
   "cell_type": "code",
   "execution_count": 165,
   "metadata": {
    "ExecuteTime": {
     "end_time": "2020-11-15T22:29:21.498590Z",
     "start_time": "2020-11-15T22:29:21.493962Z"
    }
   },
   "outputs": [],
   "source": [
    "import sqlalchemy as db"
   ]
  },
  {
   "cell_type": "code",
   "execution_count": 166,
   "metadata": {
    "ExecuteTime": {
     "end_time": "2020-11-15T22:29:22.354151Z",
     "start_time": "2020-11-15T22:29:22.348748Z"
    }
   },
   "outputs": [],
   "source": [
    "db_server = 'postgresql'\n",
    "user = 'postgres'\n",
    "password = 'admin'\n",
    "ip = 'localhost'\n",
    "db_name = 'Web-scrapping'"
   ]
  },
  {
   "cell_type": "code",
   "execution_count": 167,
   "metadata": {
    "ExecuteTime": {
     "end_time": "2020-11-15T22:29:23.772051Z",
     "start_time": "2020-11-15T22:29:23.663696Z"
    }
   },
   "outputs": [],
   "source": [
    "engine = db.create_engine(f'{db_server}://{user}:{password}@{ip}/{db_name}')"
   ]
  },
  {
   "cell_type": "code",
   "execution_count": 168,
   "metadata": {
    "ExecuteTime": {
     "end_time": "2020-11-15T22:29:24.663139Z",
     "start_time": "2020-11-15T22:29:24.580174Z"
    }
   },
   "outputs": [],
   "source": [
    "conn = engine.connect()"
   ]
  },
  {
   "cell_type": "code",
   "execution_count": 169,
   "metadata": {
    "ExecuteTime": {
     "end_time": "2020-11-15T22:30:08.127070Z",
     "start_time": "2020-11-15T22:30:07.827524Z"
    }
   },
   "outputs": [],
   "source": [
    "df1.to_sql(name='df1', con=conn)"
   ]
  },
  {
   "cell_type": "code",
   "execution_count": null,
   "metadata": {},
   "outputs": [],
   "source": []
  },
  {
   "cell_type": "code",
   "execution_count": null,
   "metadata": {},
   "outputs": [],
   "source": []
  },
  {
   "cell_type": "code",
   "execution_count": null,
   "metadata": {},
   "outputs": [],
   "source": []
  },
  {
   "cell_type": "code",
   "execution_count": null,
   "metadata": {},
   "outputs": [],
   "source": []
  },
  {
   "cell_type": "code",
   "execution_count": null,
   "metadata": {},
   "outputs": [],
   "source": []
  }
 ],
 "metadata": {
  "kernelspec": {
   "display_name": "Python 3",
   "language": "python",
   "name": "python3"
  },
  "language_info": {
   "codemirror_mode": {
    "name": "ipython",
    "version": 3
   },
   "file_extension": ".py",
   "mimetype": "text/x-python",
   "name": "python",
   "nbconvert_exporter": "python",
   "pygments_lexer": "ipython3",
   "version": "3.8.5"
  },
  "toc": {
   "base_numbering": 1,
   "nav_menu": {},
   "number_sections": true,
   "sideBar": true,
   "skip_h1_title": false,
   "title_cell": "Table of Contents",
   "title_sidebar": "Contents",
   "toc_cell": false,
   "toc_position": {},
   "toc_section_display": true,
   "toc_window_display": false
  },
  "varInspector": {
   "cols": {
    "lenName": 16,
    "lenType": 16,
    "lenVar": 40
   },
   "kernels_config": {
    "python": {
     "delete_cmd_postfix": "",
     "delete_cmd_prefix": "del ",
     "library": "var_list.py",
     "varRefreshCmd": "print(var_dic_list())"
    },
    "r": {
     "delete_cmd_postfix": ") ",
     "delete_cmd_prefix": "rm(",
     "library": "var_list.r",
     "varRefreshCmd": "cat(var_dic_list()) "
    }
   },
   "types_to_exclude": [
    "module",
    "function",
    "builtin_function_or_method",
    "instance",
    "_Feature"
   ],
   "window_display": false
  }
 },
 "nbformat": 4,
 "nbformat_minor": 4
}
